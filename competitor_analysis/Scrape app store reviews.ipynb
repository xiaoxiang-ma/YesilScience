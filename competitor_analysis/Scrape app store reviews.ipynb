{
 "cells": [
  {
   "cell_type": "markdown",
   "metadata": {},
   "source": [
    "# Scraping app store reviews\n",
    "\n",
    "In the Washington Post's project, they found a \"secret API\" that allowed them to download all the App Store reviews of target \"random chat apps.\" We're going to download reviews using the marketing platform Sensor Tower instead. Our target apps will be Chat with Strangers, Yubo, Holla, and Skout.\n",
    "\n",
    "Their reviews section doesn't have a download button, so we use a Selenium web scraper to download the information instead."
   ]
  },
  {
   "cell_type": "markdown",
   "metadata": {},
   "source": [
    "<p class=\"reading-options\">\n",
    "  <a class=\"btn\" href=\"/wapo-app-reviews/scrape-app-store-reviews\">\n",
    "    <i class=\"fa fa-sm fa-book\"></i>\n",
    "    Read online\n",
    "  </a>\n",
    "  <a class=\"btn\" href=\"/wapo-app-reviews/notebooks/Scrape app store reviews.ipynb\">\n",
    "    <i class=\"fa fa-sm fa-download\"></i>\n",
    "    Download notebook\n",
    "  </a>\n",
    "  <a class=\"btn\" href=\"https://colab.research.google.com/github/littlecolumns/ds4j-notebooks/blob/master/wapo-app-reviews/notebooks/Scrape app store reviews.ipynb\" target=\"_new\">\n",
    "    <i class=\"fa fa-sm fa-laptop\"></i>\n",
    "    Interactive version\n",
    "  </a>\n",
    "</p>"
   ]
  },
  {
   "cell_type": "code",
   "execution_count": 2,
   "metadata": {},
   "outputs": [],
   "source": [
    "from bs4 import BeautifulSoup\n",
    "import pandas as pd\n",
    "import time\n",
    "import numpy as np\n",
    "\n",
    "from selenium import webdriver\n",
    "from selenium.webdriver.common.by import By\n",
    "from selenium.webdriver.support.ui import WebDriverWait\n",
    "from selenium.webdriver.support import expected_conditions as EC"
   ]
  },
  {
   "cell_type": "markdown",
   "metadata": {},
   "source": [
    "### Select your options and scrape\n",
    "\n",
    "After you log in, select the following options to make sure you're only scraping US-based reviews. This is mostly to make sure we keep everything in English, as we won't be able to manually find racism etc in non-English reviews.\n",
    "\n",
    "* **Date:** All time\n",
    "* **Country:** US"
   ]
  },
  {
   "cell_type": "code",
   "execution_count": 3,
   "metadata": {},
   "outputs": [],
   "source": [
    "links = [\n",
    "    'https://sensortower.com/ios/US/babylon-health/app/babylon-health/858558101/review-history?selected_tab=reviews',\n",
    "    \n",
    "]"
   ]
  },
  {
   "cell_type": "code",
   "execution_count": 4,
   "metadata": {},
   "outputs": [],
   "source": [
    "def get_page():\n",
    "    doc = BeautifulSoup(driver.page_source)\n",
    "    rows = doc.select(\"tbody tr\")\n",
    "\n",
    "    datapoints = []\n",
    "    for row in rows:\n",
    "        cells = row.select(\"td\")\n",
    "        data = {\n",
    "            'Country': cells[0].text.strip(),\n",
    "            'Date': cells[1].text.strip(),\n",
    "            'Rating': cells[2].select_one('.gold')['style'],\n",
    "            'Review': cells[3].select_one('.break-wrap-review').text.strip(),\n",
    "            'Version': cells[4].text.strip()\n",
    "        }\n",
    "        datapoints.append(data)\n",
    "    return datapoints\n",
    "\n",
    "def save_data():\n",
    "    all_data = []\n",
    "    wait = WebDriverWait(driver, 5, poll_frequency=0.05)\n",
    "    while True:\n",
    "        wait.until(EC.invisibility_of_element_located((By.CSS_SELECTOR, '.ajax-loading-cover')))\n",
    "\n",
    "        results = get_page()    \n",
    "        all_data.extend(results)\n",
    "\n",
    "        next_button = driver.find_elements_by_css_selector(\".universal-flat-button\")[6]\n",
    "        if next_button.get_attribute('disabled'):\n",
    "            break\n",
    "        next_button.click()\n",
    "        time.sleep(0.5)\n",
    "        # Doesn't trigger fast enough!\n",
    "        # wait.until(EC.visibility_of_element_located((By.CSS_SELECTOR, '.ajax-loading-cover')))\n",
    "\n",
    "    df = pd.DataFrame(all_data)\n",
    "    driver.quit()\n",
    "    return df"
   ]
  },
  {
   "cell_type": "code",
   "execution_count": 9,
   "metadata": {},
   "outputs": [],
   "source": [
    "def get_reviews(link):\n",
    "    driver = webdriver.Chrome('../chromedriver')\n",
    "    driver.get(link)\n",
    "    \n",
    "    def get_page():\n",
    "        doc = BeautifulSoup(driver.page_source)\n",
    "        rows = doc.select(\"tbody tr\")\n",
    "\n",
    "        datapoints = []\n",
    "        for row in rows:\n",
    "            cells = row.select(\"td\")\n",
    "            data = {\n",
    "                'Country': cells[0].text.strip(),\n",
    "                'Date': cells[1].text.strip(),\n",
    "                'Rating': cells[2].select_one('.gold')['style'],\n",
    "                'Review': cells[3].select_one('.break-wrap-review').text.strip(),\n",
    "                'Version': cells[4].text.strip()\n",
    "            }\n",
    "            datapoints.append(data)\n",
    "        return datapoints\n",
    "\n",
    "    def save_data():\n",
    "        all_data = []\n",
    "        wait = WebDriverWait(driver, 5, poll_frequency=0.05)\n",
    "        while True:\n",
    "            wait.until(EC.invisibility_of_element_located((By.CSS_SELECTOR, '.ajax-loading-cover')))\n",
    "\n",
    "            results = get_page()    \n",
    "            all_data.extend(results)\n",
    "\n",
    "            next_button = driver.find_elements_by_css_selector(\".universal-flat-button\")[5]\n",
    "            if next_button.get_attribute('disabled'):\n",
    "                break\n",
    "            next_button.click()\n",
    "            time.sleep(0.5)\n",
    "            # Doesn't trigger fast enough!\n",
    "            # wait.until(EC.visibility_of_element_located((By.CSS_SELECTOR, '.ajax-loading-cover')))\n",
    "\n",
    "        df = pd.DataFrame(all_data)\n",
    "        driver.quit()\n",
    "        return df\n",
    "\n",
    "#     try: \n",
    "#         return save_data()\n",
    "#     except ElementClickInterceptedException:\n",
    "    return save_data()\n",
    "    \n",
    "    \n",
    "#     return result\n"
   ]
  },
  {
   "cell_type": "code",
   "execution_count": 7,
   "metadata": {},
   "outputs": [],
   "source": [
    "def scrapetocsv(name,link):\n",
    "    result = None\n",
    "    while result is None:\n",
    "        try:\n",
    "            # connect\n",
    "            result = get_reviews(link)\n",
    "        except:\n",
    "            time.sleep(5)\n",
    "            pass\n",
    "    result.to_csv(name+\".csv\", index=False)"
   ]
  },
  {
   "cell_type": "code",
   "execution_count": 53,
   "metadata": {},
   "outputs": [],
   "source": [
    "scrapetocsv('babylon_itunes','https://sensortower.com/ios/US/babylon-health/app/babylon-health/858558101/review-history?selected_tab=reviews')"
   ]
  },
  {
   "cell_type": "code",
   "execution_count": 12,
   "metadata": {},
   "outputs": [],
   "source": [
    "scrapetocsv('babylong_gp','https://sensortower.com/android/US/babylon-health/app/babylon-health-services-speak-to-a-doctor-24-7/com.babylon/review-history?selected_tab=reviews')"
   ]
  },
  {
   "cell_type": "code",
   "execution_count": 54,
   "metadata": {},
   "outputs": [],
   "source": [
    "scrapetocsv('webmd_itunes','https://sensortower.com/ios/US/webmd/app/webmd-symptoms-doctors-rx/295076329/review-history?selected_tab=reviews')"
   ]
  },
  {
   "cell_type": "code",
   "execution_count": 10,
   "metadata": {},
   "outputs": [],
   "source": [
    "scrapetocsv('webmd_gp','https://sensortower.com/android/US/webmd-llc/app/webmd-check-symptoms-find-doctors-rx-savings/com.webmd.android/review-history?selected_tab=reviews')"
   ]
  },
  {
   "cell_type": "code",
   "execution_count": 11,
   "metadata": {},
   "outputs": [],
   "source": [
    "scrapetocsv('symptomate_gp','https://sensortower.com/android/US/infermedica/app/symptomate-symptom-checker/com.symptomate.mobile/review-history?selected_tab=reviews')"
   ]
  },
  {
   "cell_type": "markdown",
   "metadata": {},
   "source": [
    "## Combine and add columns\n",
    "\n",
    "Once we've saved reviews for several different apps, we're ready to go. We'll combine them all into one single file and add a note about what app each review came from."
   ]
  },
  {
   "cell_type": "code",
   "execution_count": 13,
   "metadata": {},
   "outputs": [],
   "source": [
    "babylon_itunes = pd.read_csv('babylon_itunes.csv')\n",
    "babylon_itunes['source'] = 'babylon_itunes'\n",
    "\n",
    "babylong_gp = pd.read_csv('babylong_gp.csv')\n",
    "babylong_gp['source'] = 'babylong_gp'\n",
    "\n",
    "webmd_itunes = pd.read_csv('webmd_itunes.csv')\n",
    "webmd_itunes['source'] = 'webmd_itunes'\n",
    "\n",
    "webmd_gp = pd.read_csv('webmd_gp.csv')\n",
    "webmd_gp['source'] = 'webmd_gp'\n",
    "\n",
    "symptomate_gp = pd.read_csv('symptomate_gp.csv')\n",
    "symptomate_gp['source'] = 'symptomate_gp'"
   ]
  },
  {
   "cell_type": "code",
   "execution_count": 20,
   "metadata": {},
   "outputs": [
    {
     "data": {
      "text/plain": [
       "(452, 6)"
      ]
     },
     "execution_count": 20,
     "metadata": {},
     "output_type": "execute_result"
    }
   ],
   "source": [
    "df = pd.concat([babylon_itunes, babylong_gp, webmd_itunes, webmd_gp,symptomate_gp], ignore_index=True)\n",
    "df.shape"
   ]
  },
  {
   "cell_type": "code",
   "execution_count": 21,
   "metadata": {},
   "outputs": [
    {
     "data": {
      "text/plain": [
       "babylon_itunes    183\n",
       "babylong_gp       165\n",
       "webmd_itunes       55\n",
       "webmd_gp           44\n",
       "symptomate_gp       5\n",
       "Name: source, dtype: int64"
      ]
     },
     "execution_count": 21,
     "metadata": {},
     "output_type": "execute_result"
    }
   ],
   "source": [
    "df.source.value_counts()"
   ]
  },
  {
   "cell_type": "markdown",
   "metadata": {},
   "source": [
    "We'll also add columns for racism, bullying, and unwanted sexual behavior. While we don't know which reviews contain this content yet, we'll use these columns to mark it in Excel or Google Sheets later."
   ]
  },
  {
   "cell_type": "markdown",
   "metadata": {},
   "source": [
    "### Clean up the rating\n",
    "\n",
    "We don't have ratings that are numeric! Let's convert the weird HTML star percentage to actual numbers."
   ]
  },
  {
   "cell_type": "code",
   "execution_count": 22,
   "metadata": {},
   "outputs": [
    {
     "data": {
      "text/plain": [
       "width: 99%;    276\n",
       "width: 19%;    112\n",
       "width: 39%;     27\n",
       "width: 79%;     20\n",
       "width: 59%;     17\n",
       "Name: Rating, dtype: int64"
      ]
     },
     "execution_count": 22,
     "metadata": {},
     "output_type": "execute_result"
    }
   ],
   "source": [
    "df.Rating.value_counts()"
   ]
  },
  {
   "cell_type": "code",
   "execution_count": 23,
   "metadata": {},
   "outputs": [
    {
     "data": {
      "text/html": [
       "<div>\n",
       "<style scoped>\n",
       "    .dataframe tbody tr th:only-of-type {\n",
       "        vertical-align: middle;\n",
       "    }\n",
       "\n",
       "    .dataframe tbody tr th {\n",
       "        vertical-align: top;\n",
       "    }\n",
       "\n",
       "    .dataframe thead th {\n",
       "        text-align: right;\n",
       "    }\n",
       "</style>\n",
       "<table border=\"1\" class=\"dataframe\">\n",
       "  <thead>\n",
       "    <tr style=\"text-align: right;\">\n",
       "      <th></th>\n",
       "      <th>Country</th>\n",
       "      <th>Date</th>\n",
       "      <th>Rating</th>\n",
       "      <th>Review</th>\n",
       "      <th>Version</th>\n",
       "      <th>source</th>\n",
       "    </tr>\n",
       "  </thead>\n",
       "  <tbody>\n",
       "    <tr>\n",
       "      <th>0</th>\n",
       "      <td>Great Britain</td>\n",
       "      <td>06/08/2020</td>\n",
       "      <td>2</td>\n",
       "      <td>It’s not great, after verifying ID it keeps as...</td>\n",
       "      <td>4.22.0</td>\n",
       "      <td>babylon_itunes</td>\n",
       "    </tr>\n",
       "    <tr>\n",
       "      <th>1</th>\n",
       "      <td>Great Britain</td>\n",
       "      <td>06/08/2020</td>\n",
       "      <td>1</td>\n",
       "      <td>Don’t waste your time</td>\n",
       "      <td>-</td>\n",
       "      <td>babylon_itunes</td>\n",
       "    </tr>\n",
       "    <tr>\n",
       "      <th>2</th>\n",
       "      <td>Great Britain</td>\n",
       "      <td>06/06/2020</td>\n",
       "      <td>5</td>\n",
       "      <td>Best thing I ever did was swap to Babylon. In ...</td>\n",
       "      <td>4.22.0</td>\n",
       "      <td>babylon_itunes</td>\n",
       "    </tr>\n",
       "    <tr>\n",
       "      <th>3</th>\n",
       "      <td>Great Britain</td>\n",
       "      <td>06/06/2020</td>\n",
       "      <td>5</td>\n",
       "      <td>Clearly much investment has gone into this app...</td>\n",
       "      <td>4.22.0</td>\n",
       "      <td>babylon_itunes</td>\n",
       "    </tr>\n",
       "    <tr>\n",
       "      <th>4</th>\n",
       "      <td>Great Britain</td>\n",
       "      <td>06/05/2020</td>\n",
       "      <td>1</td>\n",
       "      <td>Staffed by brand new baby GPs with no ability ...</td>\n",
       "      <td>4.22.0</td>\n",
       "      <td>babylon_itunes</td>\n",
       "    </tr>\n",
       "  </tbody>\n",
       "</table>\n",
       "</div>"
      ],
      "text/plain": [
       "         Country        Date  Rating  \\\n",
       "0  Great Britain  06/08/2020       2   \n",
       "1  Great Britain  06/08/2020       1   \n",
       "2  Great Britain  06/06/2020       5   \n",
       "3  Great Britain  06/06/2020       5   \n",
       "4  Great Britain  06/05/2020       1   \n",
       "\n",
       "                                              Review Version          source  \n",
       "0  It’s not great, after verifying ID it keeps as...  4.22.0  babylon_itunes  \n",
       "1                              Don’t waste your time       -  babylon_itunes  \n",
       "2  Best thing I ever did was swap to Babylon. In ...  4.22.0  babylon_itunes  \n",
       "3  Clearly much investment has gone into this app...  4.22.0  babylon_itunes  \n",
       "4  Staffed by brand new baby GPs with no ability ...  4.22.0  babylon_itunes  "
      ]
     },
     "execution_count": 23,
     "metadata": {},
     "output_type": "execute_result"
    }
   ],
   "source": [
    "df.Rating = df.Rating.replace({\n",
    "    'width: 99%;': 5,\n",
    "    'width: 79%;': 4,\n",
    "    'width: 59%;': 3,\n",
    "    'width: 39%;': 2,\n",
    "    'width: 19%;': 1\n",
    "})\n",
    "df.head()"
   ]
  },
  {
   "cell_type": "code",
   "execution_count": 52,
   "metadata": {},
   "outputs": [
    {
     "data": {
      "text/plain": [
       "(452, 6)"
      ]
     },
     "execution_count": 52,
     "metadata": {},
     "output_type": "execute_result"
    }
   ],
   "source": [
    "df.shape"
   ]
  },
  {
   "cell_type": "code",
   "execution_count": 24,
   "metadata": {},
   "outputs": [
    {
     "data": {
      "text/plain": [
       "5    276\n",
       "1    112\n",
       "2     27\n",
       "4     20\n",
       "3     17\n",
       "Name: Rating, dtype: int64"
      ]
     },
     "execution_count": 24,
     "metadata": {},
     "output_type": "execute_result"
    }
   ],
   "source": [
    "df.Rating.value_counts()"
   ]
  },
  {
   "cell_type": "code",
   "execution_count": 25,
   "metadata": {},
   "outputs": [],
   "source": [
    "df.to_csv(\"allreviews.csv\", index=False)"
   ]
  },
  {
   "cell_type": "code",
   "execution_count": 27,
   "metadata": {},
   "outputs": [],
   "source": [
    "reviews = pd.read_csv(\"allreviews.csv\")"
   ]
  },
  {
   "cell_type": "code",
   "execution_count": 28,
   "metadata": {},
   "outputs": [
    {
     "data": {
      "text/plain": [
       "0      It’s not great, after verifying ID it keeps as...\n",
       "1                                  Don’t waste your time\n",
       "2      Best thing I ever did was swap to Babylon. In ...\n",
       "3      Clearly much investment has gone into this app...\n",
       "4      Staffed by brand new baby GPs with no ability ...\n",
       "                             ...                        \n",
       "447    Didn't even get to use the app the age for thi...\n",
       "448    The map given for region not showing names so ...\n",
       "449                            That was totally worth ❤️\n",
       "450                                      Brillaint app++\n",
       "451                  Nada ve confunde coisa com coisa ok\n",
       "Name: Review, Length: 452, dtype: object"
      ]
     },
     "execution_count": 28,
     "metadata": {},
     "output_type": "execute_result"
    }
   ],
   "source": [
    "reviews['Review']"
   ]
  },
  {
   "cell_type": "code",
   "execution_count": 50,
   "metadata": {},
   "outputs": [
    {
     "data": {
      "text/html": [
       "<div>\n",
       "<style scoped>\n",
       "    .dataframe tbody tr th:only-of-type {\n",
       "        vertical-align: middle;\n",
       "    }\n",
       "\n",
       "    .dataframe tbody tr th {\n",
       "        vertical-align: top;\n",
       "    }\n",
       "\n",
       "    .dataframe thead th {\n",
       "        text-align: right;\n",
       "    }\n",
       "</style>\n",
       "<table border=\"1\" class=\"dataframe\">\n",
       "  <thead>\n",
       "    <tr style=\"text-align: right;\">\n",
       "      <th></th>\n",
       "      <th>Country</th>\n",
       "      <th>Date</th>\n",
       "      <th>Rating</th>\n",
       "      <th>Review</th>\n",
       "      <th>Version</th>\n",
       "      <th>source</th>\n",
       "    </tr>\n",
       "  </thead>\n",
       "  <tbody>\n",
       "    <tr>\n",
       "      <th>4</th>\n",
       "      <td>Great Britain</td>\n",
       "      <td>06/05/2020</td>\n",
       "      <td>1</td>\n",
       "      <td>Staffed by brand new baby GPs with no ability ...</td>\n",
       "      <td>4.22.0</td>\n",
       "      <td>babylon_itunes</td>\n",
       "    </tr>\n",
       "    <tr>\n",
       "      <th>114</th>\n",
       "      <td>Great Britain</td>\n",
       "      <td>04/22/2020</td>\n",
       "      <td>5</td>\n",
       "      <td>After hurting myself I used the Babylon app to...</td>\n",
       "      <td>4.20.3</td>\n",
       "      <td>babylon_itunes</td>\n",
       "    </tr>\n",
       "    <tr>\n",
       "      <th>130</th>\n",
       "      <td>Great Britain</td>\n",
       "      <td>04/11/2020</td>\n",
       "      <td>1</td>\n",
       "      <td>Rubbish dangerous app that will try and remove...</td>\n",
       "      <td>4.20.1</td>\n",
       "      <td>babylon_itunes</td>\n",
       "    </tr>\n",
       "    <tr>\n",
       "      <th>169</th>\n",
       "      <td>Great Britain</td>\n",
       "      <td>03/19/2020</td>\n",
       "      <td>1</td>\n",
       "      <td>Rubbish dangerous app that will try and remove...</td>\n",
       "      <td>4.18.0</td>\n",
       "      <td>babylon_itunes</td>\n",
       "    </tr>\n",
       "    <tr>\n",
       "      <th>317</th>\n",
       "      <td>English</td>\n",
       "      <td>03/25/2020</td>\n",
       "      <td>4</td>\n",
       "      <td>The app is pretty easy to use and has a sleek ...</td>\n",
       "      <td>4.18.1.36032000</td>\n",
       "      <td>babylong_gp</td>\n",
       "    </tr>\n",
       "    <tr>\n",
       "      <th>420</th>\n",
       "      <td>English</td>\n",
       "      <td>04/28/2020</td>\n",
       "      <td>5</td>\n",
       "      <td>Very accurate suggestions if you can give mult...</td>\n",
       "      <td>7.8.4</td>\n",
       "      <td>webmd_gp</td>\n",
       "    </tr>\n",
       "    <tr>\n",
       "      <th>425</th>\n",
       "      <td>English</td>\n",
       "      <td>04/20/2020</td>\n",
       "      <td>5</td>\n",
       "      <td>I love having this app at my disposal. I dont ...</td>\n",
       "      <td>7.8.4</td>\n",
       "      <td>webmd_gp</td>\n",
       "    </tr>\n",
       "  </tbody>\n",
       "</table>\n",
       "</div>"
      ],
      "text/plain": [
       "           Country        Date  Rating  \\\n",
       "4    Great Britain  06/05/2020       1   \n",
       "114  Great Britain  04/22/2020       5   \n",
       "130  Great Britain  04/11/2020       1   \n",
       "169  Great Britain  03/19/2020       1   \n",
       "317        English  03/25/2020       4   \n",
       "420        English  04/28/2020       5   \n",
       "425        English  04/20/2020       5   \n",
       "\n",
       "                                                Review          Version  \\\n",
       "4    Staffed by brand new baby GPs with no ability ...           4.22.0   \n",
       "114  After hurting myself I used the Babylon app to...           4.20.3   \n",
       "130  Rubbish dangerous app that will try and remove...           4.20.1   \n",
       "169  Rubbish dangerous app that will try and remove...           4.18.0   \n",
       "317  The app is pretty easy to use and has a sleek ...  4.18.1.36032000   \n",
       "420  Very accurate suggestions if you can give mult...            7.8.4   \n",
       "425  I love having this app at my disposal. I dont ...            7.8.4   \n",
       "\n",
       "             source  \n",
       "4    babylon_itunes  \n",
       "114  babylon_itunes  \n",
       "130  babylon_itunes  \n",
       "169  babylon_itunes  \n",
       "317     babylong_gp  \n",
       "420        webmd_gp  \n",
       "425        webmd_gp  "
      ]
     },
     "execution_count": 50,
     "metadata": {},
     "output_type": "execute_result"
    }
   ],
   "source": [
    "r = reviews[reviews['Review'].str.contains(\"box|search|suggestion|text|survey\")]\n",
    "r"
   ]
  },
  {
   "cell_type": "code",
   "execution_count": 51,
   "metadata": {},
   "outputs": [],
   "source": [
    "r.to_csv(\"keywords_review.csv\")"
   ]
  },
  {
   "cell_type": "code",
   "execution_count": null,
   "metadata": {},
   "outputs": [],
   "source": []
  }
 ],
 "metadata": {
  "kernelspec": {
   "display_name": "Python 3",
   "language": "python",
   "name": "python3"
  },
  "language_info": {
   "codemirror_mode": {
    "name": "ipython",
    "version": 3
   },
   "file_extension": ".py",
   "mimetype": "text/x-python",
   "name": "python",
   "nbconvert_exporter": "python",
   "pygments_lexer": "ipython3",
   "version": "3.7.5"
  },
  "toc": {
   "base_numbering": 1,
   "nav_menu": {},
   "number_sections": true,
   "sideBar": true,
   "skip_h1_title": false,
   "title_cell": "Table of Contents",
   "title_sidebar": "Contents",
   "toc_cell": false,
   "toc_position": {},
   "toc_section_display": true,
   "toc_window_display": false
  }
 },
 "nbformat": 4,
 "nbformat_minor": 2
}
