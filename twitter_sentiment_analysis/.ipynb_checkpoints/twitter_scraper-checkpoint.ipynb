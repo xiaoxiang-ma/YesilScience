{
 "cells": [
  {
   "cell_type": "markdown",
   "metadata": {},
   "source": [
    "## Scraper dev"
   ]
  },
  {
   "cell_type": "raw",
   "metadata": {},
   "source": [
    "import pandas as pd\n",
    "import datetime\n",
    "from matplotlib import pyplot as plt\n",
    "import numpy as np"
   ]
  },
  {
   "cell_type": "raw",
   "metadata": {},
   "source": [
    "import twint\n",
    "import pickle\n",
    "import nltk\n",
    "import nest_asyncio\n",
    "nest_asyncio.apply()"
   ]
  },
  {
   "cell_type": "raw",
   "metadata": {},
   "source": [
    "import datetime\n"
   ]
  },
  {
   "cell_type": "raw",
   "metadata": {},
   "source": [
    "def gen_time_window(start, end, step, length):\n",
    "    \n",
    "    start_datetime_object = datetime.datetime.strptime(start, '%Y-%m-%d')\n",
    "    \n",
    "    end_datetime_object = datetime.datetime.strptime(end, '%Y-%m-%d')\n",
    "\n",
    "    iterator = start_datetime_object\n",
    "    output = []\n",
    "    while iterator < end_datetime_object:\n",
    "        since = str(iterator)[:10]\n",
    "#         until = str(iterator + datetime.timedelta(days=step))[:10]\n",
    "        until = str(min(end_datetime_object, iterator + datetime.timedelta(days=length)))[:10]\n",
    "        output.append((since,until))\n",
    "        iterator += datetime.timedelta(days=step)\n",
    "    \n",
    "    return output"
   ]
  },
  {
   "cell_type": "raw",
   "metadata": {
    "scrolled": true
   },
   "source": [
    "gen_time_window('2018-01-01', '2020-06-04', 14, 1)"
   ]
  },
  {
   "cell_type": "raw",
   "metadata": {},
   "source": [
    "def get_tweets(search, since, until, limit=100, db=True):\n",
    "    dbname = search.replace(\" \",\"_\") + \".db\"\n",
    "    c = twint.Config()\n",
    "    c.Search = search\n",
    "    c.Limit = limit # If not specified, scrapes all...\n",
    "    c.Pandas = True\n",
    "    c.Pandas_clean = True\n",
    "    c.Since = since\n",
    "    c.Until = until\n",
    "    c.Database = dbname\n",
    "    c.Hide_output = True\n",
    "    \n",
    "    twint.run.Search(c)\n",
    "    if db==False:\n",
    "        return twint.output.panda.Tweets_df\n",
    "    else: print(\"Done: \"+ since + \" to \" + until, twint.output.panda.Tweets_df.shape[0], \"entries\")"
   ]
  },
  {
   "cell_type": "raw",
   "metadata": {},
   "source": [
    "def scrape_to_db(keyword, start_date, end_date, step, length, limit):\n",
    "    dates = gen_time_window(start_date, end_date, step, length)\n",
    "    for i in dates:\n",
    "        get_tweets(keyword, i[0], i[1], limit=limit)"
   ]
  },
  {
   "cell_type": "raw",
   "metadata": {},
   "source": [
    "scrape_to_db(keyword = \"spacex rocket\", \n",
    "             start_date = '2020-01-01', \n",
    "             end_date = '2020-06-01', \n",
    "             step = 30, \n",
    "             length = 1, \n",
    "             limit = 100)"
   ]
  },
  {
   "cell_type": "raw",
   "metadata": {},
   "source": [
    "scrape_to_db(keyword = \"digital health\", \n",
    "             start_date = '2018-01-01', \n",
    "             end_date = '2020-06-01', \n",
    "             step = 14, \n",
    "             length = 1, \n",
    "             limit = 1000)"
   ]
  },
  {
   "cell_type": "markdown",
   "metadata": {},
   "source": [
    "## Connect db"
   ]
  },
  {
   "cell_type": "code",
   "execution_count": 11,
   "metadata": {},
   "outputs": [],
   "source": [
    "import pandas as pd\n",
    "import datetime\n",
    "from matplotlib import pyplot as plt\n",
    "import numpy as np\n",
    "import pickle\n"
   ]
  },
  {
   "cell_type": "code",
   "execution_count": 4,
   "metadata": {},
   "outputs": [],
   "source": [
    "import sqlite3\n",
    "conn = sqlite3.connect('digital_health_Jun4.db')\n",
    "digital_health = pd.read_sql_query(\"select * from tweets;\", conn)"
   ]
  },
  {
   "cell_type": "code",
   "execution_count": 5,
   "metadata": {},
   "outputs": [],
   "source": [
    "# df.to_csv(\"digital_health_tweets.csv\")"
   ]
  },
  {
   "cell_type": "code",
   "execution_count": 6,
   "metadata": {},
   "outputs": [
    {
     "data": {
      "text/html": [
       "<div>\n",
       "<style scoped>\n",
       "    .dataframe tbody tr th:only-of-type {\n",
       "        vertical-align: middle;\n",
       "    }\n",
       "\n",
       "    .dataframe tbody tr th {\n",
       "        vertical-align: top;\n",
       "    }\n",
       "\n",
       "    .dataframe thead th {\n",
       "        text-align: right;\n",
       "    }\n",
       "</style>\n",
       "<table border=\"1\" class=\"dataframe\">\n",
       "  <thead>\n",
       "    <tr style=\"text-align: right;\">\n",
       "      <th></th>\n",
       "      <th>id</th>\n",
       "      <th>id_str</th>\n",
       "      <th>tweet</th>\n",
       "      <th>conversation_id</th>\n",
       "      <th>created_at</th>\n",
       "      <th>date</th>\n",
       "      <th>time</th>\n",
       "      <th>timezone</th>\n",
       "      <th>place</th>\n",
       "      <th>replies_count</th>\n",
       "      <th>...</th>\n",
       "      <th>photos</th>\n",
       "      <th>quote_url</th>\n",
       "      <th>video</th>\n",
       "      <th>geo</th>\n",
       "      <th>near</th>\n",
       "      <th>source</th>\n",
       "      <th>time_update</th>\n",
       "      <th>translate</th>\n",
       "      <th>trans_src</th>\n",
       "      <th>trans_dest</th>\n",
       "    </tr>\n",
       "  </thead>\n",
       "  <tbody>\n",
       "    <tr>\n",
       "      <th>0</th>\n",
       "      <td>947693945127165952</td>\n",
       "      <td>947693945127165952</td>\n",
       "      <td>#Medlium #HIPAA-compliant #EHR/EMR for #health...</td>\n",
       "      <td>947693945127165952</td>\n",
       "      <td>1514782818000</td>\n",
       "      <td>2018-01-01</td>\n",
       "      <td>00:00:18</td>\n",
       "      <td>EDT</td>\n",
       "      <td></td>\n",
       "      <td>0</td>\n",
       "      <td>...</td>\n",
       "      <td>https://pbs.twimg.com/media/DSbinreW0AAnGUo.jpg</td>\n",
       "      <td></td>\n",
       "      <td>0</td>\n",
       "      <td></td>\n",
       "      <td></td>\n",
       "      <td></td>\n",
       "      <td>1591301209538</td>\n",
       "      <td></td>\n",
       "      <td></td>\n",
       "      <td></td>\n",
       "    </tr>\n",
       "    <tr>\n",
       "      <th>1</th>\n",
       "      <td>947694121833115648</td>\n",
       "      <td>947694121833115648</td>\n",
       "      <td>Year 2 of @HCA_News begins now. Thanks for rea...</td>\n",
       "      <td>947694121833115648</td>\n",
       "      <td>1514782860000</td>\n",
       "      <td>2018-01-01</td>\n",
       "      <td>00:01:00</td>\n",
       "      <td>EDT</td>\n",
       "      <td></td>\n",
       "      <td>0</td>\n",
       "      <td>...</td>\n",
       "      <td></td>\n",
       "      <td></td>\n",
       "      <td>0</td>\n",
       "      <td></td>\n",
       "      <td></td>\n",
       "      <td></td>\n",
       "      <td>1591301209528</td>\n",
       "      <td></td>\n",
       "      <td></td>\n",
       "      <td></td>\n",
       "    </tr>\n",
       "    <tr>\n",
       "      <th>2</th>\n",
       "      <td>947694795757178885</td>\n",
       "      <td>947694795757178885</td>\n",
       "      <td>Learn how to become a pharmacist on our #digit...</td>\n",
       "      <td>947694795757178885</td>\n",
       "      <td>1514783021000</td>\n",
       "      <td>2018-01-01</td>\n",
       "      <td>00:03:41</td>\n",
       "      <td>EDT</td>\n",
       "      <td></td>\n",
       "      <td>0</td>\n",
       "      <td>...</td>\n",
       "      <td></td>\n",
       "      <td></td>\n",
       "      <td>0</td>\n",
       "      <td></td>\n",
       "      <td></td>\n",
       "      <td></td>\n",
       "      <td>1591301209521</td>\n",
       "      <td></td>\n",
       "      <td></td>\n",
       "      <td></td>\n",
       "    </tr>\n",
       "    <tr>\n",
       "      <th>3</th>\n",
       "      <td>947695873462587392</td>\n",
       "      <td>947695873462587392</td>\n",
       "      <td>Element 5 - Transfer your patient to an adult ...</td>\n",
       "      <td>947695873462587392</td>\n",
       "      <td>1514783278000</td>\n",
       "      <td>2018-01-01</td>\n",
       "      <td>00:07:58</td>\n",
       "      <td>EDT</td>\n",
       "      <td></td>\n",
       "      <td>0</td>\n",
       "      <td>...</td>\n",
       "      <td></td>\n",
       "      <td></td>\n",
       "      <td>0</td>\n",
       "      <td></td>\n",
       "      <td></td>\n",
       "      <td></td>\n",
       "      <td>1591301209513</td>\n",
       "      <td></td>\n",
       "      <td></td>\n",
       "      <td></td>\n",
       "    </tr>\n",
       "    <tr>\n",
       "      <th>4</th>\n",
       "      <td>947700619904765953</td>\n",
       "      <td>947700619904765953</td>\n",
       "      <td>may UR 2018 be impact-full #digitalhealth #mov...</td>\n",
       "      <td>947700619904765953</td>\n",
       "      <td>1514784409000</td>\n",
       "      <td>2018-01-01</td>\n",
       "      <td>00:26:49</td>\n",
       "      <td>EDT</td>\n",
       "      <td></td>\n",
       "      <td>0</td>\n",
       "      <td>...</td>\n",
       "      <td>https://pbs.twimg.com/media/DSbornoUMAA8xU4.jpg</td>\n",
       "      <td></td>\n",
       "      <td>0</td>\n",
       "      <td></td>\n",
       "      <td></td>\n",
       "      <td></td>\n",
       "      <td>1591301209505</td>\n",
       "      <td></td>\n",
       "      <td></td>\n",
       "      <td></td>\n",
       "    </tr>\n",
       "    <tr>\n",
       "      <th>...</th>\n",
       "      <td>...</td>\n",
       "      <td>...</td>\n",
       "      <td>...</td>\n",
       "      <td>...</td>\n",
       "      <td>...</td>\n",
       "      <td>...</td>\n",
       "      <td>...</td>\n",
       "      <td>...</td>\n",
       "      <td>...</td>\n",
       "      <td>...</td>\n",
       "      <td>...</td>\n",
       "      <td>...</td>\n",
       "      <td>...</td>\n",
       "      <td>...</td>\n",
       "      <td>...</td>\n",
       "      <td>...</td>\n",
       "      <td>...</td>\n",
       "      <td>...</td>\n",
       "      <td>...</td>\n",
       "      <td>...</td>\n",
       "      <td>...</td>\n",
       "    </tr>\n",
       "    <tr>\n",
       "      <th>49266</th>\n",
       "      <td>1268328305855352832</td>\n",
       "      <td>1268328305855352832</td>\n",
       "      <td>Program out now for #FromTheFrontlines on 26 J...</td>\n",
       "      <td>1268328305855352832</td>\n",
       "      <td>1591228007000</td>\n",
       "      <td>2020-06-03</td>\n",
       "      <td>19:46:47</td>\n",
       "      <td>EDT</td>\n",
       "      <td></td>\n",
       "      <td>0</td>\n",
       "      <td>...</td>\n",
       "      <td></td>\n",
       "      <td></td>\n",
       "      <td>0</td>\n",
       "      <td></td>\n",
       "      <td></td>\n",
       "      <td></td>\n",
       "      <td>1591394966581</td>\n",
       "      <td></td>\n",
       "      <td></td>\n",
       "      <td></td>\n",
       "    </tr>\n",
       "    <tr>\n",
       "      <th>49267</th>\n",
       "      <td>1268328737218723847</td>\n",
       "      <td>1268328737218723847</td>\n",
       "      <td>BD to Present at Investor Conferences \\n\\nREAD...</td>\n",
       "      <td>1268328737218723847</td>\n",
       "      <td>1591228110000</td>\n",
       "      <td>2020-06-03</td>\n",
       "      <td>19:48:30</td>\n",
       "      <td>EDT</td>\n",
       "      <td></td>\n",
       "      <td>0</td>\n",
       "      <td>...</td>\n",
       "      <td>https://pbs.twimg.com/media/EZoCQ9JXsAAHMgG.jpg</td>\n",
       "      <td></td>\n",
       "      <td>0</td>\n",
       "      <td></td>\n",
       "      <td></td>\n",
       "      <td></td>\n",
       "      <td>1591394966569</td>\n",
       "      <td></td>\n",
       "      <td></td>\n",
       "      <td></td>\n",
       "    </tr>\n",
       "    <tr>\n",
       "      <th>49268</th>\n",
       "      <td>1268329865536663552</td>\n",
       "      <td>1268329865536663552</td>\n",
       "      <td>As usual, if you couldn't tune in to today's l...</td>\n",
       "      <td>1268329865536663552</td>\n",
       "      <td>1591228379000</td>\n",
       "      <td>2020-06-03</td>\n",
       "      <td>19:52:59</td>\n",
       "      <td>EDT</td>\n",
       "      <td></td>\n",
       "      <td>0</td>\n",
       "      <td>...</td>\n",
       "      <td></td>\n",
       "      <td></td>\n",
       "      <td>0</td>\n",
       "      <td></td>\n",
       "      <td></td>\n",
       "      <td></td>\n",
       "      <td>1591394966558</td>\n",
       "      <td></td>\n",
       "      <td></td>\n",
       "      <td></td>\n",
       "    </tr>\n",
       "    <tr>\n",
       "      <th>49269</th>\n",
       "      <td>1268330871037349888</td>\n",
       "      <td>1268330871037349888</td>\n",
       "      <td>Inspire Medical Systems Introduces Digital Hea...</td>\n",
       "      <td>1268330871037349888</td>\n",
       "      <td>1591228618000</td>\n",
       "      <td>2020-06-03</td>\n",
       "      <td>19:56:58</td>\n",
       "      <td>EDT</td>\n",
       "      <td></td>\n",
       "      <td>0</td>\n",
       "      <td>...</td>\n",
       "      <td></td>\n",
       "      <td></td>\n",
       "      <td>0</td>\n",
       "      <td></td>\n",
       "      <td></td>\n",
       "      <td></td>\n",
       "      <td>1591394966549</td>\n",
       "      <td></td>\n",
       "      <td></td>\n",
       "      <td></td>\n",
       "    </tr>\n",
       "    <tr>\n",
       "      <th>49270</th>\n",
       "      <td>1268331458122469376</td>\n",
       "      <td>1268331458122469376</td>\n",
       "      <td>Sharecare Acquires Evidence-Based Behavior Cha...</td>\n",
       "      <td>1268331458122469376</td>\n",
       "      <td>1591228758000</td>\n",
       "      <td>2020-06-03</td>\n",
       "      <td>19:59:18</td>\n",
       "      <td>EDT</td>\n",
       "      <td></td>\n",
       "      <td>0</td>\n",
       "      <td>...</td>\n",
       "      <td></td>\n",
       "      <td></td>\n",
       "      <td>0</td>\n",
       "      <td></td>\n",
       "      <td></td>\n",
       "      <td></td>\n",
       "      <td>1591394966523</td>\n",
       "      <td></td>\n",
       "      <td></td>\n",
       "      <td></td>\n",
       "    </tr>\n",
       "  </tbody>\n",
       "</table>\n",
       "<p>49271 rows × 31 columns</p>\n",
       "</div>"
      ],
      "text/plain": [
       "                        id               id_str  \\\n",
       "0       947693945127165952   947693945127165952   \n",
       "1       947694121833115648   947694121833115648   \n",
       "2       947694795757178885   947694795757178885   \n",
       "3       947695873462587392   947695873462587392   \n",
       "4       947700619904765953   947700619904765953   \n",
       "...                    ...                  ...   \n",
       "49266  1268328305855352832  1268328305855352832   \n",
       "49267  1268328737218723847  1268328737218723847   \n",
       "49268  1268329865536663552  1268329865536663552   \n",
       "49269  1268330871037349888  1268330871037349888   \n",
       "49270  1268331458122469376  1268331458122469376   \n",
       "\n",
       "                                                   tweet      conversation_id  \\\n",
       "0      #Medlium #HIPAA-compliant #EHR/EMR for #health...   947693945127165952   \n",
       "1      Year 2 of @HCA_News begins now. Thanks for rea...   947694121833115648   \n",
       "2      Learn how to become a pharmacist on our #digit...   947694795757178885   \n",
       "3      Element 5 - Transfer your patient to an adult ...   947695873462587392   \n",
       "4      may UR 2018 be impact-full #digitalhealth #mov...   947700619904765953   \n",
       "...                                                  ...                  ...   \n",
       "49266  Program out now for #FromTheFrontlines on 26 J...  1268328305855352832   \n",
       "49267  BD to Present at Investor Conferences \\n\\nREAD...  1268328737218723847   \n",
       "49268  As usual, if you couldn't tune in to today's l...  1268329865536663552   \n",
       "49269  Inspire Medical Systems Introduces Digital Hea...  1268330871037349888   \n",
       "49270  Sharecare Acquires Evidence-Based Behavior Cha...  1268331458122469376   \n",
       "\n",
       "          created_at        date      time timezone place  replies_count  ...  \\\n",
       "0      1514782818000  2018-01-01  00:00:18      EDT                    0  ...   \n",
       "1      1514782860000  2018-01-01  00:01:00      EDT                    0  ...   \n",
       "2      1514783021000  2018-01-01  00:03:41      EDT                    0  ...   \n",
       "3      1514783278000  2018-01-01  00:07:58      EDT                    0  ...   \n",
       "4      1514784409000  2018-01-01  00:26:49      EDT                    0  ...   \n",
       "...              ...         ...       ...      ...   ...            ...  ...   \n",
       "49266  1591228007000  2020-06-03  19:46:47      EDT                    0  ...   \n",
       "49267  1591228110000  2020-06-03  19:48:30      EDT                    0  ...   \n",
       "49268  1591228379000  2020-06-03  19:52:59      EDT                    0  ...   \n",
       "49269  1591228618000  2020-06-03  19:56:58      EDT                    0  ...   \n",
       "49270  1591228758000  2020-06-03  19:59:18      EDT                    0  ...   \n",
       "\n",
       "                                                photos  quote_url  video geo  \\\n",
       "0      https://pbs.twimg.com/media/DSbinreW0AAnGUo.jpg                 0       \n",
       "1                                                                      0       \n",
       "2                                                                      0       \n",
       "3                                                                      0       \n",
       "4      https://pbs.twimg.com/media/DSbornoUMAA8xU4.jpg                 0       \n",
       "...                                                ...        ...    ...  ..   \n",
       "49266                                                                  0       \n",
       "49267  https://pbs.twimg.com/media/EZoCQ9JXsAAHMgG.jpg                 0       \n",
       "49268                                                                  0       \n",
       "49269                                                                  0       \n",
       "49270                                                                  0       \n",
       "\n",
       "      near source    time_update translate trans_src trans_dest  \n",
       "0                  1591301209538                                 \n",
       "1                  1591301209528                                 \n",
       "2                  1591301209521                                 \n",
       "3                  1591301209513                                 \n",
       "4                  1591301209505                                 \n",
       "...    ...    ...            ...       ...       ...        ...  \n",
       "49266              1591394966581                                 \n",
       "49267              1591394966569                                 \n",
       "49268              1591394966558                                 \n",
       "49269              1591394966549                                 \n",
       "49270              1591394966523                                 \n",
       "\n",
       "[49271 rows x 31 columns]"
      ]
     },
     "execution_count": 6,
     "metadata": {},
     "output_type": "execute_result"
    }
   ],
   "source": [
    "digital_health"
   ]
  },
  {
   "cell_type": "markdown",
   "metadata": {},
   "source": [
    "### Mark gender prediction"
   ]
  },
  {
   "cell_type": "code",
   "execution_count": 8,
   "metadata": {},
   "outputs": [],
   "source": [
    "import json\n",
    "with open('gender_training/top_words.json') as json_file:\n",
    "    top_words = json.load(json_file)"
   ]
  },
  {
   "cell_type": "code",
   "execution_count": 9,
   "metadata": {},
   "outputs": [],
   "source": [
    "def find_features(top_words, text):\n",
    "    feature = {}\n",
    "    for word in top_words:\n",
    "        feature[word] = word in text.lower()\n",
    "    return feature"
   ]
  },
  {
   "cell_type": "code",
   "execution_count": 13,
   "metadata": {},
   "outputs": [],
   "source": [
    "NB_classifier = pickle.load(open('gender_training/gender_NB_classifier.sav', 'rb'))"
   ]
  },
  {
   "cell_type": "code",
   "execution_count": 14,
   "metadata": {},
   "outputs": [
    {
     "data": {
      "text/plain": [
       "'#Medlium #HIPAA-compliant #EHR/EMR for #healthcare practices  https://goo.gl/pLsbd7\\xa0 #HealthIT #EMR #Healthcare #Hit #MeaningfulUse #HIE #health #digitalhealth #mHealth #software #eHealth #Healthapps pic.twitter.com/ipD0qTfEz7'"
      ]
     },
     "execution_count": 14,
     "metadata": {},
     "output_type": "execute_result"
    }
   ],
   "source": [
    "digital_health['tweet'][0]"
   ]
  },
  {
   "cell_type": "code",
   "execution_count": 15,
   "metadata": {
    "scrolled": true
   },
   "outputs": [
    {
     "data": {
      "text/plain": [
       "'brand'"
      ]
     },
     "execution_count": 15,
     "metadata": {},
     "output_type": "execute_result"
    }
   ],
   "source": [
    "NB_classifier.classify(find_features(top_words, digital_health['tweet'][0]))"
   ]
  },
  {
   "cell_type": "code",
   "execution_count": 16,
   "metadata": {},
   "outputs": [],
   "source": [
    "digital_health['gender'] = digital_health['tweet'].apply(lambda x: NB_classifier.classify(find_features(top_words, x)))"
   ]
  },
  {
   "cell_type": "code",
   "execution_count": 17,
   "metadata": {},
   "outputs": [
    {
     "data": {
      "text/plain": [
       "brand     45230\n",
       "male       3753\n",
       "female      288\n",
       "Name: gender, dtype: int64"
      ]
     },
     "execution_count": 17,
     "metadata": {},
     "output_type": "execute_result"
    }
   ],
   "source": [
    "digital_health['gender'].value_counts()"
   ]
  },
  {
   "cell_type": "markdown",
   "metadata": {},
   "source": [
    "### Export to csv"
   ]
  },
  {
   "cell_type": "code",
   "execution_count": 18,
   "metadata": {},
   "outputs": [],
   "source": [
    "digital_health.to_csv(\"digital_health_tweets_markerd.csv\")"
   ]
  }
 ],
 "metadata": {
  "kernelspec": {
   "display_name": "Python 3",
   "language": "python",
   "name": "python3"
  },
  "language_info": {
   "codemirror_mode": {
    "name": "ipython",
    "version": 3
   },
   "file_extension": ".py",
   "mimetype": "text/x-python",
   "name": "python",
   "nbconvert_exporter": "python",
   "pygments_lexer": "ipython3",
   "version": "3.7.5"
  }
 },
 "nbformat": 4,
 "nbformat_minor": 4
}
